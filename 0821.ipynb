{
 "cells": [
  {
   "cell_type": "code",
   "execution_count": 2,
   "metadata": {},
   "outputs": [
    {
     "name": "stdout",
     "output_type": "stream",
     "text": [
      "Ans aaa\n"
     ]
    }
   ],
   "source": [
    "#21\n",
    "a=input()\n",
    "print(\"Ans\",a)"
   ]
  },
  {
   "cell_type": "code",
   "execution_count": 6,
   "metadata": {},
   "outputs": [
    {
     "name": "stdout",
     "output_type": "stream",
     "text": [
      "**** total: 4\n"
     ]
    }
   ],
   "source": [
    "#16\n",
    "a=input()\n",
    "b=len(a)*\"*\"\n",
    "print(b,\"total:\",len(a))"
   ]
  },
  {
   "cell_type": "code",
   "execution_count": 7,
   "metadata": {},
   "outputs": [
    {
     "name": "stdout",
     "output_type": "stream",
     "text": [
      "****\n",
      "total:4\n"
     ]
    }
   ],
   "source": [
    "#16\n",
    "def main():\n",
    "    # 讀取使用者輸入的密碼\n",
    "    password = input(\"請輸入密碼: \")\n",
    "    \n",
    "    # 將密碼每個字元轉成 *，並將結果存到一個新字符串\n",
    "    masked_password = '*' * len(password)\n",
    "    \n",
    "    # 輸出處理過的密碼\n",
    "    print(masked_password)\n",
    "    \n",
    "    # 輸出密碼的長度\n",
    "    print(f\"total:{len(password)}\")\n",
    "\n",
    "if __name__ == \"__main__\":\n",
    "    main()"
   ]
  },
  {
   "cell_type": "code",
   "execution_count": 8,
   "metadata": {},
   "outputs": [
    {
     "name": "stdout",
     "output_type": "stream",
     "text": [
      "****\n",
      "total:4\n"
     ]
    }
   ],
   "source": [
    "#16\n",
    "# 讀取使用者輸入的密碼\n",
    "password = input(\"請輸入密碼: \")\n",
    "\n",
    "# 將密碼每個字元轉成 *，並將結果存到一個新字符串\n",
    "masked_password = '*' * len(password)\n",
    "\n",
    "# 輸出處理過的密碼\n",
    "print(masked_password)\n",
    "\n",
    "# 輸出密碼的長度\n",
    "print(f\"total:{len(password)}\")\n"
   ]
  },
  {
   "cell_type": "code",
   "execution_count": 10,
   "metadata": {},
   "outputs": [
    {
     "name": "stdout",
     "output_type": "stream",
     "text": [
      "75\n"
     ]
    }
   ],
   "source": [
    "#24\n",
    "N=int(input())\n",
    "m=0\n",
    "for i in range(10,N+1):\n",
    "    m+=i\n",
    "print(m)\n"
   ]
  },
  {
   "cell_type": "code",
   "execution_count": 12,
   "metadata": {},
   "outputs": [
    {
     "name": "stdout",
     "output_type": "stream",
     "text": [
      "sum: 35\n",
      "squ: 5.916079783099616\n",
      "squi: 5\n",
      "squi is odd\n"
     ]
    }
   ],
   "source": [
    "#31\n",
    "a,b,c,d,e,f,g,h,i=list(map(int,input().split()))\n",
    "x=a+b+c+d+e+f+g+h+i\n",
    "y=x**0.5\n",
    "z=int(y)\n",
    "print(\"sum:\",x)\n",
    "print(\"squ:\",y)\n",
    "print(\"squi:\",z)\n",
    "if z%2==0:\n",
    "    print(\"squi is even\")\n",
    "else:\n",
    "    print(\"squi is odd\")"
   ]
  },
  {
   "cell_type": "code",
   "execution_count": 13,
   "metadata": {},
   "outputs": [
    {
     "name": "stdout",
     "output_type": "stream",
     "text": [
      "sum:35\n",
      "squ:5.916079783099616\n",
      "squi:5\n",
      "squi is odd\n"
     ]
    }
   ],
   "source": [
    "#31\n",
    "# 讀取輸入，並將其拆分成數字列表\n",
    "numbers_str = input().split()\n",
    "\n",
    "# 使用 map 函數將字串轉為整數列表\n",
    "numbers = list(map(int, numbers_str))\n",
    "\n",
    "# 手動計算總和\n",
    "total_sum = 0\n",
    "for number in numbers:\n",
    "    total_sum += number\n",
    "\n",
    "# 計算總和的平方根（使用 ** 運算符）\n",
    "squ = total_sum ** 0.5\n",
    "\n",
    "# 將平方根結果轉型為整數\n",
    "squi = int(squ)\n",
    "\n",
    "# 判斷強制轉型後的結果為奇數還是偶數\n",
    "odd_or_even = \"even\" if squi % 2 == 0 else \"odd\"\n",
    "\n",
    "# 輸出結果\n",
    "print(f\"sum:{total_sum}\")\n",
    "print(f\"squ:{squ}\")\n",
    "print(f\"squi:{squi}\")\n",
    "print(f\"squi is {odd_or_even}\")"
   ]
  },
  {
   "cell_type": "code",
   "execution_count": 14,
   "metadata": {},
   "outputs": [
    {
     "name": "stdout",
     "output_type": "stream",
     "text": [
      "33.0 is error\n"
     ]
    }
   ],
   "source": [
    "#25\n",
    "X=float(input())\n",
    "if X>=37.5:\n",
    "    print(X,\"is over\")\n",
    "elif 37.5>X>36.9:\n",
    "    print(X,\"is little over\")\n",
    "elif 37>X>33.9:\n",
    "    print(X,\"is normal\")\n",
    "else:\n",
    "    print(X,\"is error\")\n"
   ]
  },
  {
   "cell_type": "code",
   "execution_count": 17,
   "metadata": {},
   "outputs": [
    {
     "name": "stdout",
     "output_type": "stream",
     "text": [
      "0 is E\n"
     ]
    }
   ],
   "source": [
    "#26\n",
    "X=int(input(\"輸入成績\"))\n",
    "if X>100:\n",
    "    print(X,\"is error\")\n",
    "elif X<0:\n",
    "    print(X,\"is error\")\n",
    "elif 100>X>89:\n",
    "    print(X,\"is A\")\n",
    "elif 90>X>79:\n",
    "    print(X,\"is B\")\n",
    "elif 80>X>69:\n",
    "    print(X,\"is C\")\n",
    "elif 70>X>59:\n",
    "    print(X,\"is D\")\n",
    "else:\n",
    "    print(X,\"is E\")"
   ]
  },
  {
   "cell_type": "code",
   "execution_count": 18,
   "metadata": {},
   "outputs": [
    {
     "name": "stdout",
     "output_type": "stream",
     "text": [
      "0 is E\n"
     ]
    }
   ],
   "source": [
    "#26\n",
    "# 讀取使用者輸入的成績\n",
    "score = int(input(\"請輸入成績: \"))\n",
    "\n",
    "# 判斷成績範圍並輸出相應的等第\n",
    "if score < 0 or score > 100:\n",
    "    print(f\"{score} is error\")\n",
    "elif score >= 90:\n",
    "    print(f\"{score} is A\")\n",
    "elif score >= 80:\n",
    "    print(f\"{score} is B\")\n",
    "elif score >= 70:\n",
    "    print(f\"{score} is C\")\n",
    "elif score >= 60:\n",
    "    print(f\"{score} is D\")\n",
    "else:  # score < 60\n",
    "    print(f\"{score} is E\")\n"
   ]
  },
  {
   "cell_type": "code",
   "execution_count": 26,
   "metadata": {},
   "outputs": [
    {
     "name": "stdout",
     "output_type": "stream",
     "text": [
      "1*1= 1 1*2= 2 1*3= 3 1*4= 4 1*5= 5 1*6= 6 1*7= 7 1*8= 8 1*9= 9 \n",
      "2*1= 2 2*2= 4 2*3= 6 2*4= 8 2*5=10 2*6=12 2*7=14 2*8=16 2*9=18 \n",
      "3*1= 3 3*2= 6 3*3= 9 3*4=12 3*5=15 3*6=18 3*7=21 3*8=24 3*9=27 \n",
      "4*1= 4 4*2= 8 4*3=12 4*4=16 4*5=20 4*6=24 4*7=28 4*8=32 4*9=36 \n",
      "5*1= 5 5*2=10 5*3=15 5*4=20 5*5=25 5*6=30 5*7=35 5*8=40 5*9=45 \n",
      "6*1= 6 6*2=12 6*3=18 6*4=24 6*5=30 6*6=36 6*7=42 6*8=48 6*9=54 \n",
      "7*1= 7 7*2=14 7*3=21 7*4=28 7*5=35 7*6=42 7*7=49 7*8=56 7*9=63 \n",
      "8*1= 8 8*2=16 8*3=24 8*4=32 8*5=40 8*6=48 8*7=56 8*8=64 8*9=72 \n",
      "9*1= 9 9*2=18 9*3=27 9*4=36 9*5=45 9*6=54 9*7=63 9*8=72 9*9=81 \n"
     ]
    }
   ],
   "source": [
    "#19\n",
    "# 讀取使用者輸入的數字\n",
    "num = int(input(\"請輸入一個數字: \"))\n",
    "\n",
    "# 印出從該數字到 9 的乘法表\n",
    "for i in range(num, 10):\n",
    "    for j in range(1, 10):\n",
    "        print(f\"{i}*{j}={i*j:2d}\",end=\" \")\n",
    "    print()"
   ]
  },
  {
   "cell_type": "code",
   "execution_count": 27,
   "metadata": {},
   "outputs": [
    {
     "name": "stdout",
     "output_type": "stream",
     "text": [
      "1*1=1 1*2=2 1*3=3 1*4=4 1*5=5 1*6=6 1*7=7 1*8=8 1*9=9 \n",
      "2*1=2 2*2=4 2*3=6 2*4=8 2*5=10 2*6=12 2*7=14 2*8=16 2*9=18 \n",
      "3*1=3 3*2=6 3*3=9 3*4=12 3*5=15 3*6=18 3*7=21 3*8=24 3*9=27 \n",
      "4*1=4 4*2=8 4*3=12 4*4=16 4*5=20 4*6=24 4*7=28 4*8=32 4*9=36 \n",
      "5*1=5 5*2=10 5*3=15 5*4=20 5*5=25 5*6=30 5*7=35 5*8=40 5*9=45 \n",
      "6*1=6 6*2=12 6*3=18 6*4=24 6*5=30 6*6=36 6*7=42 6*8=48 6*9=54 \n",
      "7*1=7 7*2=14 7*3=21 7*4=28 7*5=35 7*6=42 7*7=49 7*8=56 7*9=63 \n",
      "8*1=8 8*2=16 8*3=24 8*4=32 8*5=40 8*6=48 8*7=56 8*8=64 8*9=72 \n",
      "9*1=9 9*2=18 9*3=27 9*4=36 9*5=45 9*6=54 9*7=63 9*8=72 9*9=81 \n"
     ]
    }
   ],
   "source": [
    "#19\n",
    "# 讀取使用者輸入的數字\n",
    "num = int(input(\"請輸入一個數字: \"))\n",
    "\n",
    "# 印出從該數字到 9 的乘法表\n",
    "for i in range(num, 10):\n",
    "    for j in range(1, 10):\n",
    "        print(\"%d*%d=%d\" % (i, j, i * j), end=\" \")\n",
    "    print()"
   ]
  },
  {
   "cell_type": "code",
   "execution_count": 28,
   "metadata": {},
   "outputs": [
    {
     "name": "stdout",
     "output_type": "stream",
     "text": [
      "1*1= 1 1*2= 2 1*3= 3 1*4= 4 1*5= 5 1*6= 6 1*7= 7 1*8= 8 1*9= 9 \n",
      "2*1= 2 2*2= 4 2*3= 6 2*4= 8 2*5=10 2*6=12 2*7=14 2*8=16 2*9=18 \n",
      "3*1= 3 3*2= 6 3*3= 9 3*4=12 3*5=15 3*6=18 3*7=21 3*8=24 3*9=27 \n",
      "4*1= 4 4*2= 8 4*3=12 4*4=16 4*5=20 4*6=24 4*7=28 4*8=32 4*9=36 \n",
      "5*1= 5 5*2=10 5*3=15 5*4=20 5*5=25 5*6=30 5*7=35 5*8=40 5*9=45 \n",
      "6*1= 6 6*2=12 6*3=18 6*4=24 6*5=30 6*6=36 6*7=42 6*8=48 6*9=54 \n",
      "7*1= 7 7*2=14 7*3=21 7*4=28 7*5=35 7*6=42 7*7=49 7*8=56 7*9=63 \n",
      "8*1= 8 8*2=16 8*3=24 8*4=32 8*5=40 8*6=48 8*7=56 8*8=64 8*9=72 \n",
      "9*1= 9 9*2=18 9*3=27 9*4=36 9*5=45 9*6=54 9*7=63 9*8=72 9*9=81 \n"
     ]
    }
   ],
   "source": [
    "#19\n",
    "# 讀取使用者輸入的數字\n",
    "num = int(input(\"請輸入一個數字: \"))\n",
    "\n",
    "# 印出從該數字到 9 的乘法表\n",
    "for i in range(num, 10):\n",
    "    for j in range(1, 10):\n",
    "        print(\"%d*%d=%2d\" % (i, j, i * j), end=\" \")\n",
    "    print()"
   ]
  },
  {
   "cell_type": "code",
   "execution_count": 30,
   "metadata": {},
   "outputs": [
    {
     "name": "stdout",
     "output_type": "stream",
     "text": [
      "1is winter\n"
     ]
    }
   ],
   "source": [
    "#27\n",
    "X=int(input())\n",
    "if X>12 or X<1:\n",
    "    print(\"input error\")\n",
    "elif 6>X>2:\n",
    "    print(f\"{X} is spring\")\n",
    "elif 9>X>5:\n",
    "    print(f\"{X} is summer\")\n",
    "elif 12>X>8:\n",
    "    print(f\"{X} is autumn\")\n",
    "else:\n",
    "    print(f\"{X} is winter\")"
   ]
  },
  {
   "cell_type": "code",
   "execution_count": 36,
   "metadata": {},
   "outputs": [
    {
     "name": "stdout",
     "output_type": "stream",
     "text": [
      "no discount is 9999\n"
     ]
    }
   ],
   "source": [
    "#29\n",
    "a=int(input())\n",
    "a=float(a)\n",
    "b=int(a)\n",
    "if a>=100000:\n",
    "    print(f\"80% discount is {a*0.8}\")\n",
    "elif a>=50000:\n",
    "    print(f\"85% discount is {a*0.85}\")\n",
    "elif a>=30000:\n",
    "    print(f\"90% discount is {a*0.9}\")\n",
    "elif a>=10000:\n",
    "    print(f\"95% discount is {a*0.95}\")\n",
    "else:\n",
    "    print(f\"no discount is {b}\")"
   ]
  },
  {
   "cell_type": "code",
   "execution_count": 37,
   "metadata": {},
   "outputs": [
    {
     "name": "stdout",
     "output_type": "stream",
     "text": [
      "Invalid\n"
     ]
    }
   ],
   "source": [
    "#33\n",
    "a,b,c = map(int,input().split())\n",
    "if a==b==c:\n",
    "    print(\"Valid\")\n",
    "elif a==b!=c:\n",
    "    print(\"Valid\")\n",
    "elif a==c!=b:\n",
    "    print(\"Valid\")\n",
    "elif b==c!=a:\n",
    "    print(\"Valid\")\n",
    "else:\n",
    "    print(\"Invalid\")"
   ]
  },
  {
   "cell_type": "code",
   "execution_count": 38,
   "metadata": {},
   "outputs": [
    {
     "name": "stdout",
     "output_type": "stream",
     "text": [
      "Invalid\n"
     ]
    }
   ],
   "source": [
    "a,b,c = map(int,input().split())\n",
    "if a!=b!=c:\n",
    "    print(\"Invalid\")\n",
    "else:\n",
    "    print(\"Valid\")"
   ]
  },
  {
   "cell_type": "code",
   "execution_count": 39,
   "metadata": {},
   "outputs": [
    {
     "name": "stdout",
     "output_type": "stream",
     "text": [
      "park time:7h:49m\n",
      "pay:300\n"
     ]
    }
   ],
   "source": [
    "#34\n",
    "a=int(input())\n",
    "b=a//60\n",
    "c=a%60\n",
    "if a<60:\n",
    "    print(f\"park time:{a}m\")\n",
    "    print(\"pay:20 money\")\n",
    "elif a%60==0:\n",
    "    print(f\"park time:{b}h:{c}m\")\n",
    "    print(f\"pay:{b*40} money\")\n",
    "elif a>420:\n",
    "    print(f\"park time:{b}h:{c}m\")\n",
    "    print(\"pay:300 money\")\n",
    "else:\n",
    "    print(f\"park time:{b}h:{c}m\")\n",
    "    print(f\"pay:{b*40+20} money\")\n"
   ]
  },
  {
   "cell_type": "code",
   "execution_count": 47,
   "metadata": {},
   "outputs": [
    {
     "name": "stdout",
     "output_type": "stream",
     "text": [
      "153,\n"
     ]
    }
   ],
   "source": [
    "#35\n",
    "a,b = map(int,input().split())\n",
    "n=[]\n",
    "for i in range(a,b):\n",
    "    if 100<=i<=999:\n",
    "        h=i//100\n",
    "        t=(i//10)%10\n",
    "        o=i%10\n",
    "        if h**3+t**3+o**3==i:\n",
    "            n.append(i)\n",
    "print(\",\".join(map(str,n))+\",\")"
   ]
  },
  {
   "cell_type": "code",
   "execution_count": 46,
   "metadata": {},
   "outputs": [
    {
     "name": "stdout",
     "output_type": "stream",
     "text": [
      "153,"
     ]
    }
   ],
   "source": [
    "#35錯誤\n",
    "a,b = map(int,input().split())\n",
    "n=0\n",
    "for i in range(a,b):\n",
    "    if 100<=i<=999:\n",
    "        h=i//100\n",
    "        t=(i//10)%10\n",
    "        o=i%10\n",
    "        if h**3+t**3+o**3==i:\n",
    "            n=i\n",
    "print(n,end=\",\")"
   ]
  },
  {
   "cell_type": "code",
   "execution_count": 50,
   "metadata": {},
   "outputs": [
    {
     "name": "stdout",
     "output_type": "stream",
     "text": [
      "t=2.0 b=5.0 h=4.8 area=16.8\n"
     ]
    }
   ],
   "source": [
    "#40\n",
    "a=float(input())\n",
    "b=float(input())\n",
    "c=float(input())\n",
    "d=(a+b)*c/2\n",
    "print(f\"t={a} b={b} h={c} area={d}\")"
   ]
  },
  {
   "cell_type": "code",
   "execution_count": null,
   "metadata": {},
   "outputs": [],
   "source": []
  }
 ],
 "metadata": {
  "kernelspec": {
   "display_name": "base",
   "language": "python",
   "name": "python3"
  },
  "language_info": {
   "codemirror_mode": {
    "name": "ipython",
    "version": 3
   },
   "file_extension": ".py",
   "mimetype": "text/x-python",
   "name": "python",
   "nbconvert_exporter": "python",
   "pygments_lexer": "ipython3",
   "version": "3.11.7"
  }
 },
 "nbformat": 4,
 "nbformat_minor": 2
}
