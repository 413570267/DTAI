{
 "cells": [
  {
   "cell_type": "code",
   "execution_count": 9,
   "metadata": {},
   "outputs": [
    {
     "name": "stdout",
     "output_type": "stream",
     "text": [
      "密碼錯誤\n"
     ]
    }
   ],
   "source": [
    "密碼=int(input(\"請輸入密碼\"))\n",
    "if 密碼==1234:\n",
    "    print(\"密碼正確\")\n",
    "else:\n",
    "    print(\"密碼錯誤\")"
   ]
  },
  {
   "cell_type": "code",
   "execution_count": 7,
   "metadata": {},
   "outputs": [
    {
     "name": "stdout",
     "output_type": "stream",
     "text": [
      "記得帶傘\n"
     ]
    }
   ],
   "source": [
    "rain=(input(\"今天會下雨嗎\"))\n",
    "if rain == \"y\":\n",
    "    print(\"記得帶傘\")"
   ]
  },
  {
   "cell_type": "code",
   "execution_count": 8,
   "metadata": {},
   "outputs": [
    {
     "name": "stdout",
     "output_type": "stream",
     "text": [
      "奇數\n"
     ]
    }
   ],
   "source": [
    "a=int(input(\"請輸入數字\"))\n",
    "if a%2==1:\n",
    "    print(\"奇數\")\n",
    "else:\n",
    "    print(\"偶數\")"
   ]
  },
  {
   "cell_type": "code",
   "execution_count": 11,
   "metadata": {},
   "outputs": [
    {
     "name": "stdout",
     "output_type": "stream",
     "text": [
      "體溫略高\n"
     ]
    }
   ],
   "source": [
    "a=eval(input(\"輸入體溫\"))\n",
    "if a>=37.5:\n",
    "    print(\"體溫過高\")\n",
    "elif 37.5>a>36.9:\n",
    "    print(\"體溫略高\")\n",
    "elif 37>a>33.9:\n",
    "    print(\"體溫正常\")\n",
    "else:\n",
    "    print(\"體溫異常，重測\")"
   ]
  },
  {
   "cell_type": "code",
   "execution_count": 12,
   "metadata": {},
   "outputs": [
    {
     "name": "stdout",
     "output_type": "stream",
     "text": [
      "E\n"
     ]
    }
   ],
   "source": [
    "a=eval(input(\"輸入成績\"))\n",
    "if a>=90:\n",
    "    print(\"A\")\n",
    "elif 90>a>79:\n",
    "    print(\"B\")\n",
    "elif 80>a>69:\n",
    "    print(\"C\")\n",
    "elif 70>a>59:\n",
    "    print(\"D\")\n",
    "else:\n",
    "    print(\"E\")"
   ]
  },
  {
   "cell_type": "code",
   "execution_count": 13,
   "metadata": {},
   "outputs": [
    {
     "name": "stdout",
     "output_type": "stream",
     "text": [
      "960.0\n"
     ]
    }
   ],
   "source": [
    "total=eval(input(\"總額\"))\n",
    "if total>1000:\n",
    "    print(total*0.8)\n",
    "elif 1001>total>499:\n",
    "    print(total*0.9)\n",
    "else:\n",
    "    print(total)"
   ]
  },
  {
   "cell_type": "code",
   "execution_count": 14,
   "metadata": {},
   "outputs": [
    {
     "name": "stdout",
     "output_type": "stream",
     "text": [
      "需要立即加油！\n"
     ]
    }
   ],
   "source": [
    "fuel=eval(input(\"剩餘油量(L)\"))\n",
    "if fuel>10:\n",
    "    print(\"油量充足!\")\n",
    "elif 11>fuel>4:\n",
    "    print(\"油量不足，建議加油\")\n",
    "else:\n",
    "    print(\"需要立即加油！\")"
   ]
  },
  {
   "cell_type": "code",
   "execution_count": 15,
   "metadata": {},
   "outputs": [
    {
     "name": "stdout",
     "output_type": "stream",
     "text": [
      "250\n"
     ]
    }
   ],
   "source": [
    "amount=eval(input(\"輸入轉帳金額\"))\n",
    "if amount>10000:\n",
    "    print(amount)\n",
    "elif 10001>amount>4999:\n",
    "    print(amount-50)\n",
    "elif 5000>amount>999:\n",
    "    print(amount-100)\n",
    "else:\n",
    "    print(amount-150)"
   ]
  },
  {
   "cell_type": "code",
   "execution_count": null,
   "metadata": {},
   "outputs": [],
   "source": []
  }
 ],
 "metadata": {
  "kernelspec": {
   "display_name": "base",
   "language": "python",
   "name": "python3"
  },
  "language_info": {
   "codemirror_mode": {
    "name": "ipython",
    "version": 3
   },
   "file_extension": ".py",
   "mimetype": "text/x-python",
   "name": "python",
   "nbconvert_exporter": "python",
   "pygments_lexer": "ipython3",
   "version": "3.11.7"
  }
 },
 "nbformat": 4,
 "nbformat_minor": 2
}
